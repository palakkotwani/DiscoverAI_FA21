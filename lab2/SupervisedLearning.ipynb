{
    "metadata": {
        "kernelspec": {
            "name": "python3",
            "display_name": "Python 3 (ipykernel)",
            "language": "python"
        }
    },
    "nbformat": 4,
    "nbformat_minor": 2,
    "cells": [
        {
            "attachments": {},
            "cell_type": "markdown",
            "metadata": {},
            "source": [
                "This code is an introduction to supervised learning solving a classification problem using **decision trees**.\n",
                "It follows [this tutorial](https://youtu.be/7eh4d6sabA0). "
            ]
        },
        {
            "attachments": {},
            "cell_type": "markdown",
            "metadata": {},
            "source": [
                "# **Classification Problem**\n",
                "We will follow these steps of solving a machine learning problem.\n",
                "\n",
                "\n",
                "1. Import the Data\n",
                "2. Clean the Data\n",
                "3. split the Data into Training/ Test steps\n",
                "4. Create a Model\n",
                "5. Train the Model\n",
                "6. Make Predictions\n",
                "7. Evaluate and improve\n",
                ""
            ]
        },
        {
            "attachments": {},
            "cell_type": "markdown",
            "metadata": {},
            "source": [
                "# Problem description\n",
                "Enter in the text cell below what you will be predicting in this classification problem (y) and which columns will be used in the prediction (X)"
            ]
        },
        {
            "attachments": {},
            "cell_type": "markdown",
            "metadata": {},
            "source": [
                "Predicting the level of humor in different people. Columns will be the various questions asked."
            ]
        },
        {
            "cell_type": "code",
            "execution_count": 1,
            "metadata": {},
            "outputs": [],
            "source": [
                "import pandas as pd\n",
                "from sklearn.tree import DecisionTreeClassifier\n",
                "from sklearn.model_selection import train_test_split\n",
                "from sklearn.metrics import accuracy_score\n",
                "import joblib\n",
                "from sklearn import tree"
            ]
        },
        {
            "attachments": {},
            "cell_type": "markdown",
            "metadata": {},
            "source": [
                "1. Import the Data."
            ]
        },
        {
            "cell_type": "code",
            "execution_count": 2,
            "metadata": {},
            "outputs": [],
            "source": [
                "df = pd.read_csv('cleanedfile.csv')"
            ]
        },
        {
            "attachments": {},
            "cell_type": "markdown",
            "metadata": {},
            "source": [
                "2. Display columns and describe the data set"
            ]
        },
        {
            "cell_type": "code",
            "execution_count": 3,
            "metadata": {},
            "outputs": [
                {
                    "name": "stdout",
                    "output_type": "stream",
                    "text": "\u003cclass 'pandas.core.frame.DataFrame'\u003e\nRangeIndex: 1071 entries, 0 to 1070\nData columns (total 39 columns):\n #   Column         Non-Null Count  Dtype  \n---  ------         --------------  -----  \n 0   Q1             1071 non-null   int64  \n 1   Q2             1071 non-null   int64  \n 2   Q3             1071 non-null   int64  \n 3   Q4             1071 non-null   int64  \n 4   Q5             1071 non-null   int64  \n 5   Q6             1071 non-null   int64  \n 6   Q7             1071 non-null   int64  \n 7   Q8             1071 non-null   int64  \n 8   Q9             1071 non-null   int64  \n 9   Q10            1071 non-null   int64  \n 10  Q11            1071 non-null   int64  \n 11  Q12            1071 non-null   int64  \n 12  Q13            1071 non-null   int64  \n 13  Q14            1071 non-null   int64  \n 14  Q15            1071 non-null   int64  \n 15  Q16            1071 non-null   int64  \n 16  Q17            1071 non-null   int64  \n 17  Q18            1071 non-null   int64  \n 18  Q19            1071 non-null   int64  \n 19  Q20            1071 non-null   int64  \n 20  Q21            1071 non-null   int64  \n 21  Q22            1071 non-null   int64  \n 22  Q23            1071 non-null   int64  \n 23  Q24            1071 non-null   int64  \n 24  Q25            1071 non-null   int64  \n 25  Q26            1071 non-null   int64  \n 26  Q27            1071 non-null   int64  \n 27  Q28            1071 non-null   int64  \n 28  Q29            1071 non-null   int64  \n 29  Q30            1071 non-null   int64  \n 30  Q31            1071 non-null   int64  \n 31  Q32            1071 non-null   int64  \n 32  affiliative    1071 non-null   float64\n 33  selfenhancing  1071 non-null   float64\n 34  agressive      1071 non-null   float64\n 35  selfdefeating  1071 non-null   float64\n 36  age            1071 non-null   int64  \n 37  gender         1071 non-null   int64  \n 38  accuracy       1071 non-null   int64  \ndtypes: float64(4), int64(35)\nmemory usage: 326.4 KB\n"
                }
            ],
            "source": [
                "df.info()"
            ]
        },
        {
            "cell_type": "code",
            "execution_count": 4,
            "metadata": {},
            "outputs": [
                {
                    "data": {
                        "text/html": "\u003cdiv\u003e\n\u003cstyle scoped\u003e\n    .dataframe tbody tr th:only-of-type {\n        vertical-align: middle;\n    }\n\n    .dataframe tbody tr th {\n        vertical-align: top;\n    }\n\n    .dataframe thead th {\n        text-align: right;\n    }\n\u003c/style\u003e\n\u003ctable border=\"1\" class=\"dataframe\"\u003e\n  \u003cthead\u003e\n    \u003ctr style=\"text-align: right;\"\u003e\n      \u003cth\u003e\u003c/th\u003e\n      \u003cth\u003eQ1\u003c/th\u003e\n      \u003cth\u003eQ2\u003c/th\u003e\n      \u003cth\u003eQ3\u003c/th\u003e\n      \u003cth\u003eQ4\u003c/th\u003e\n      \u003cth\u003eQ5\u003c/th\u003e\n      \u003cth\u003eQ6\u003c/th\u003e\n      \u003cth\u003eQ7\u003c/th\u003e\n      \u003cth\u003eQ8\u003c/th\u003e\n      \u003cth\u003eQ9\u003c/th\u003e\n      \u003cth\u003eQ10\u003c/th\u003e\n      \u003cth\u003e...\u003c/th\u003e\n      \u003cth\u003eQ30\u003c/th\u003e\n      \u003cth\u003eQ31\u003c/th\u003e\n      \u003cth\u003eQ32\u003c/th\u003e\n      \u003cth\u003eaffiliative\u003c/th\u003e\n      \u003cth\u003eselfenhancing\u003c/th\u003e\n      \u003cth\u003eagressive\u003c/th\u003e\n      \u003cth\u003eselfdefeating\u003c/th\u003e\n      \u003cth\u003eage\u003c/th\u003e\n      \u003cth\u003egender\u003c/th\u003e\n      \u003cth\u003eaccuracy\u003c/th\u003e\n    \u003c/tr\u003e\n  \u003c/thead\u003e\n  \u003ctbody\u003e\n    \u003ctr\u003e\n      \u003cth\u003ecount\u003c/th\u003e\n      \u003ctd\u003e1071.000000\u003c/td\u003e\n      \u003ctd\u003e1071.000000\u003c/td\u003e\n      \u003ctd\u003e1071.000000\u003c/td\u003e\n      \u003ctd\u003e1071.000000\u003c/td\u003e\n      \u003ctd\u003e1071.000000\u003c/td\u003e\n      \u003ctd\u003e1071.000000\u003c/td\u003e\n      \u003ctd\u003e1071.000000\u003c/td\u003e\n      \u003ctd\u003e1071.000000\u003c/td\u003e\n      \u003ctd\u003e1071.000000\u003c/td\u003e\n      \u003ctd\u003e1071.000000\u003c/td\u003e\n      \u003ctd\u003e...\u003c/td\u003e\n      \u003ctd\u003e1071.000000\u003c/td\u003e\n      \u003ctd\u003e1071.000000\u003c/td\u003e\n      \u003ctd\u003e1071.000000\u003c/td\u003e\n      \u003ctd\u003e1071.000000\u003c/td\u003e\n      \u003ctd\u003e1071.000000\u003c/td\u003e\n      \u003ctd\u003e1071.000000\u003c/td\u003e\n      \u003ctd\u003e1071.000000\u003c/td\u003e\n      \u003ctd\u003e1071.000000\u003c/td\u003e\n      \u003ctd\u003e1071.000000\u003c/td\u003e\n      \u003ctd\u003e1071.000000\u003c/td\u003e\n    \u003c/tr\u003e\n    \u003ctr\u003e\n      \u003cth\u003emean\u003c/th\u003e\n      \u003ctd\u003e2.025210\u003c/td\u003e\n      \u003ctd\u003e3.342670\u003c/td\u003e\n      \u003ctd\u003e3.078431\u003c/td\u003e\n      \u003ctd\u003e2.833800\u003c/td\u003e\n      \u003ctd\u003e3.599440\u003c/td\u003e\n      \u003ctd\u003e4.152194\u003c/td\u003e\n      \u003ctd\u003e3.277311\u003c/td\u003e\n      \u003ctd\u003e2.535014\u003c/td\u003e\n      \u003ctd\u003e2.582633\u003c/td\u003e\n      \u003ctd\u003e2.869281\u003c/td\u003e\n      \u003ctd\u003e...\u003c/td\u003e\n      \u003ctd\u003e3.945845\u003c/td\u003e\n      \u003ctd\u003e2.767507\u003c/td\u003e\n      \u003ctd\u003e2.838469\u003c/td\u003e\n      \u003ctd\u003e4.010644\u003c/td\u003e\n      \u003ctd\u003e3.375537\u003c/td\u003e\n      \u003ctd\u003e2.956583\u003c/td\u003e\n      \u003ctd\u003e2.762745\u003c/td\u003e\n      \u003ctd\u003e70.966387\u003c/td\u003e\n      \u003ctd\u003e1.455649\u003c/td\u003e\n      \u003ctd\u003e87.542484\u003c/td\u003e\n    \u003c/tr\u003e\n    \u003ctr\u003e\n      \u003cth\u003estd\u003c/th\u003e\n      \u003ctd\u003e1.075782\u003c/td\u003e\n      \u003ctd\u003e1.112898\u003c/td\u003e\n      \u003ctd\u003e1.167877\u003c/td\u003e\n      \u003ctd\u003e1.160252\u003c/td\u003e\n      \u003ctd\u003e1.061281\u003c/td\u003e\n      \u003ctd\u003e0.979315\u003c/td\u003e\n      \u003ctd\u003e1.099974\u003c/td\u003e\n      \u003ctd\u003e1.231380\u003c/td\u003e\n      \u003ctd\u003e1.224530\u003c/td\u003e\n      \u003ctd\u003e1.205013\u003c/td\u003e\n      \u003ctd\u003e...\u003c/td\u003e\n      \u003ctd\u003e1.135189\u003c/td\u003e\n      \u003ctd\u003e1.309601\u003c/td\u003e\n      \u003ctd\u003e1.233889\u003c/td\u003e\n      \u003ctd\u003e0.708479\u003c/td\u003e\n      \u003ctd\u003e0.661533\u003c/td\u003e\n      \u003ctd\u003e0.410870\u003c/td\u003e\n      \u003ctd\u003e0.645982\u003c/td\u003e\n      \u003ctd\u003e1371.989249\u003c/td\u003e\n      \u003ctd\u003e0.522076\u003c/td\u003e\n      \u003ctd\u003e12.038483\u003c/td\u003e\n    \u003c/tr\u003e\n    \u003ctr\u003e\n      \u003cth\u003emin\u003c/th\u003e\n      \u003ctd\u003e-1.000000\u003c/td\u003e\n      \u003ctd\u003e-1.000000\u003c/td\u003e\n      \u003ctd\u003e-1.000000\u003c/td\u003e\n      \u003ctd\u003e-1.000000\u003c/td\u003e\n      \u003ctd\u003e-1.000000\u003c/td\u003e\n      \u003ctd\u003e-1.000000\u003c/td\u003e\n      \u003ctd\u003e-1.000000\u003c/td\u003e\n      \u003ctd\u003e-1.000000\u003c/td\u003e\n      \u003ctd\u003e-1.000000\u003c/td\u003e\n      \u003ctd\u003e-1.000000\u003c/td\u003e\n      \u003ctd\u003e...\u003c/td\u003e\n      \u003ctd\u003e-1.000000\u003c/td\u003e\n      \u003ctd\u003e-1.000000\u003c/td\u003e\n      \u003ctd\u003e-1.000000\u003c/td\u003e\n      \u003ctd\u003e1.300000\u003c/td\u003e\n      \u003ctd\u003e0.000000\u003c/td\u003e\n      \u003ctd\u003e0.000000\u003c/td\u003e\n      \u003ctd\u003e0.000000\u003c/td\u003e\n      \u003ctd\u003e14.000000\u003c/td\u003e\n      \u003ctd\u003e0.000000\u003c/td\u003e\n      \u003ctd\u003e2.000000\u003c/td\u003e\n    \u003c/tr\u003e\n    \u003ctr\u003e\n      \u003cth\u003e25%\u003c/th\u003e\n      \u003ctd\u003e1.000000\u003c/td\u003e\n      \u003ctd\u003e3.000000\u003c/td\u003e\n      \u003ctd\u003e2.000000\u003c/td\u003e\n      \u003ctd\u003e2.000000\u003c/td\u003e\n      \u003ctd\u003e3.000000\u003c/td\u003e\n      \u003ctd\u003e4.000000\u003c/td\u003e\n      \u003ctd\u003e3.000000\u003c/td\u003e\n      \u003ctd\u003e2.000000\u003c/td\u003e\n      \u003ctd\u003e2.000000\u003c/td\u003e\n      \u003ctd\u003e2.000000\u003c/td\u003e\n      \u003ctd\u003e...\u003c/td\u003e\n      \u003ctd\u003e3.000000\u003c/td\u003e\n      \u003ctd\u003e2.000000\u003c/td\u003e\n      \u003ctd\u003e2.000000\u003c/td\u003e\n      \u003ctd\u003e3.600000\u003c/td\u003e\n      \u003ctd\u003e2.900000\u003c/td\u003e\n      \u003ctd\u003e2.800000\u003c/td\u003e\n      \u003ctd\u003e2.300000\u003c/td\u003e\n      \u003ctd\u003e18.500000\u003c/td\u003e\n      \u003ctd\u003e1.000000\u003c/td\u003e\n      \u003ctd\u003e80.000000\u003c/td\u003e\n    \u003c/tr\u003e\n    \u003ctr\u003e\n      \u003cth\u003e50%\u003c/th\u003e\n      \u003ctd\u003e2.000000\u003c/td\u003e\n      \u003ctd\u003e3.000000\u003c/td\u003e\n      \u003ctd\u003e3.000000\u003c/td\u003e\n      \u003ctd\u003e3.000000\u003c/td\u003e\n      \u003ctd\u003e4.000000\u003c/td\u003e\n      \u003ctd\u003e4.000000\u003c/td\u003e\n      \u003ctd\u003e3.000000\u003c/td\u003e\n      \u003ctd\u003e2.000000\u003c/td\u003e\n      \u003ctd\u003e2.000000\u003c/td\u003e\n      \u003ctd\u003e3.000000\u003c/td\u003e\n      \u003ctd\u003e...\u003c/td\u003e\n      \u003ctd\u003e4.000000\u003c/td\u003e\n      \u003ctd\u003e3.000000\u003c/td\u003e\n      \u003ctd\u003e3.000000\u003c/td\u003e\n      \u003ctd\u003e4.100000\u003c/td\u003e\n      \u003ctd\u003e3.400000\u003c/td\u003e\n      \u003ctd\u003e3.000000\u003c/td\u003e\n      \u003ctd\u003e2.800000\u003c/td\u003e\n      \u003ctd\u003e23.000000\u003c/td\u003e\n      \u003ctd\u003e1.000000\u003c/td\u003e\n      \u003ctd\u003e90.000000\u003c/td\u003e\n    \u003c/tr\u003e\n    \u003ctr\u003e\n      \u003cth\u003e75%\u003c/th\u003e\n      \u003ctd\u003e3.000000\u003c/td\u003e\n      \u003ctd\u003e4.000000\u003c/td\u003e\n      \u003ctd\u003e4.000000\u003c/td\u003e\n      \u003ctd\u003e4.000000\u003c/td\u003e\n      \u003ctd\u003e4.000000\u003c/td\u003e\n      \u003ctd\u003e5.000000\u003c/td\u003e\n      \u003ctd\u003e4.000000\u003c/td\u003e\n      \u003ctd\u003e3.000000\u003c/td\u003e\n      \u003ctd\u003e3.000000\u003c/td\u003e\n      \u003ctd\u003e4.000000\u003c/td\u003e\n      \u003ctd\u003e...\u003c/td\u003e\n      \u003ctd\u003e5.000000\u003c/td\u003e\n      \u003ctd\u003e4.000000\u003c/td\u003e\n      \u003ctd\u003e4.000000\u003c/td\u003e\n      \u003ctd\u003e4.500000\u003c/td\u003e\n      \u003ctd\u003e3.800000\u003c/td\u003e\n      \u003ctd\u003e3.300000\u003c/td\u003e\n      \u003ctd\u003e3.100000\u003c/td\u003e\n      \u003ctd\u003e31.000000\u003c/td\u003e\n      \u003ctd\u003e2.000000\u003c/td\u003e\n      \u003ctd\u003e95.000000\u003c/td\u003e\n    \u003c/tr\u003e\n    \u003ctr\u003e\n      \u003cth\u003emax\u003c/th\u003e\n      \u003ctd\u003e5.000000\u003c/td\u003e\n      \u003ctd\u003e5.000000\u003c/td\u003e\n      \u003ctd\u003e5.000000\u003c/td\u003e\n      \u003ctd\u003e5.000000\u003c/td\u003e\n      \u003ctd\u003e5.000000\u003c/td\u003e\n      \u003ctd\u003e5.000000\u003c/td\u003e\n      \u003ctd\u003e5.000000\u003c/td\u003e\n      \u003ctd\u003e5.000000\u003c/td\u003e\n      \u003ctd\u003e5.000000\u003c/td\u003e\n      \u003ctd\u003e5.000000\u003c/td\u003e\n      \u003ctd\u003e...\u003c/td\u003e\n      \u003ctd\u003e5.000000\u003c/td\u003e\n      \u003ctd\u003e5.000000\u003c/td\u003e\n      \u003ctd\u003e5.000000\u003c/td\u003e\n      \u003ctd\u003e5.100000\u003c/td\u003e\n      \u003ctd\u003e5.000000\u003c/td\u003e\n      \u003ctd\u003e5.000000\u003c/td\u003e\n      \u003ctd\u003e5.000000\u003c/td\u003e\n      \u003ctd\u003e44849.000000\u003c/td\u003e\n      \u003ctd\u003e3.000000\u003c/td\u003e\n      \u003ctd\u003e100.000000\u003c/td\u003e\n    \u003c/tr\u003e\n  \u003c/tbody\u003e\n\u003c/table\u003e\n\u003cp\u003e8 rows × 39 columns\u003c/p\u003e\n\u003c/div\u003e",
                        "text/plain": "                Q1           Q2           Q3           Q4           Q5  \\\ncount  1071.000000  1071.000000  1071.000000  1071.000000  1071.000000   \nmean      2.025210     3.342670     3.078431     2.833800     3.599440   \nstd       1.075782     1.112898     1.167877     1.160252     1.061281   \nmin      -1.000000    -1.000000    -1.000000    -1.000000    -1.000000   \n25%       1.000000     3.000000     2.000000     2.000000     3.000000   \n50%       2.000000     3.000000     3.000000     3.000000     4.000000   \n75%       3.000000     4.000000     4.000000     4.000000     4.000000   \nmax       5.000000     5.000000     5.000000     5.000000     5.000000   \n\n                Q6           Q7           Q8           Q9          Q10  ...  \\\ncount  1071.000000  1071.000000  1071.000000  1071.000000  1071.000000  ...   \nmean      4.152194     3.277311     2.535014     2.582633     2.869281  ...   \nstd       0.979315     1.099974     1.231380     1.224530     1.205013  ...   \nmin      -1.000000    -1.000000    -1.000000    -1.000000    -1.000000  ...   \n25%       4.000000     3.000000     2.000000     2.000000     2.000000  ...   \n50%       4.000000     3.000000     2.000000     2.000000     3.000000  ...   \n75%       5.000000     4.000000     3.000000     3.000000     4.000000  ...   \nmax       5.000000     5.000000     5.000000     5.000000     5.000000  ...   \n\n               Q30          Q31          Q32  affiliative  selfenhancing  \\\ncount  1071.000000  1071.000000  1071.000000  1071.000000    1071.000000   \nmean      3.945845     2.767507     2.838469     4.010644       3.375537   \nstd       1.135189     1.309601     1.233889     0.708479       0.661533   \nmin      -1.000000    -1.000000    -1.000000     1.300000       0.000000   \n25%       3.000000     2.000000     2.000000     3.600000       2.900000   \n50%       4.000000     3.000000     3.000000     4.100000       3.400000   \n75%       5.000000     4.000000     4.000000     4.500000       3.800000   \nmax       5.000000     5.000000     5.000000     5.100000       5.000000   \n\n         agressive  selfdefeating           age       gender     accuracy  \ncount  1071.000000    1071.000000   1071.000000  1071.000000  1071.000000  \nmean      2.956583       2.762745     70.966387     1.455649    87.542484  \nstd       0.410870       0.645982   1371.989249     0.522076    12.038483  \nmin       0.000000       0.000000     14.000000     0.000000     2.000000  \n25%       2.800000       2.300000     18.500000     1.000000    80.000000  \n50%       3.000000       2.800000     23.000000     1.000000    90.000000  \n75%       3.300000       3.100000     31.000000     2.000000    95.000000  \nmax       5.000000       5.000000  44849.000000     3.000000   100.000000  \n\n[8 rows x 39 columns]"
                    },
                    "execution_count": 4,
                    "metadata": {},
                    "output_type": "execute_result"
                }
            ],
            "source": [
                "df.describe()"
            ]
        },
        {
            "attachments": {},
            "cell_type": "markdown",
            "metadata": {},
            "source": [
                "3. Prepare Data"
            ]
        },
        {
            "cell_type": "code",
            "execution_count": 6,
            "metadata": {},
            "outputs": [
                {
                    "data": {
                        "text/html": "\u003cdiv\u003e\n\u003cstyle scoped\u003e\n    .dataframe tbody tr th:only-of-type {\n        vertical-align: middle;\n    }\n\n    .dataframe tbody tr th {\n        vertical-align: top;\n    }\n\n    .dataframe thead th {\n        text-align: right;\n    }\n\u003c/style\u003e\n\u003ctable border=\"1\" class=\"dataframe\"\u003e\n  \u003cthead\u003e\n    \u003ctr style=\"text-align: right;\"\u003e\n      \u003cth\u003e\u003c/th\u003e\n      \u003cth\u003eQ1\u003c/th\u003e\n      \u003cth\u003eQ2\u003c/th\u003e\n      \u003cth\u003eQ3\u003c/th\u003e\n      \u003cth\u003eQ4\u003c/th\u003e\n      \u003cth\u003eQ5\u003c/th\u003e\n      \u003cth\u003eQ6\u003c/th\u003e\n      \u003cth\u003eQ7\u003c/th\u003e\n      \u003cth\u003eQ8\u003c/th\u003e\n      \u003cth\u003eQ9\u003c/th\u003e\n      \u003cth\u003eQ10\u003c/th\u003e\n      \u003cth\u003e...\u003c/th\u003e\n      \u003cth\u003eQ29\u003c/th\u003e\n      \u003cth\u003eQ30\u003c/th\u003e\n      \u003cth\u003eQ31\u003c/th\u003e\n      \u003cth\u003eQ32\u003c/th\u003e\n      \u003cth\u003eaffiliative\u003c/th\u003e\n      \u003cth\u003eselfenhancing\u003c/th\u003e\n      \u003cth\u003eagressive\u003c/th\u003e\n      \u003cth\u003eselfdefeating\u003c/th\u003e\n      \u003cth\u003eage\u003c/th\u003e\n      \u003cth\u003egender\u003c/th\u003e\n    \u003c/tr\u003e\n  \u003c/thead\u003e\n  \u003ctbody\u003e\n    \u003ctr\u003e\n      \u003cth\u003e0\u003c/th\u003e\n      \u003ctd\u003e2\u003c/td\u003e\n      \u003ctd\u003e2\u003c/td\u003e\n      \u003ctd\u003e3\u003c/td\u003e\n      \u003ctd\u003e1\u003c/td\u003e\n      \u003ctd\u003e4\u003c/td\u003e\n      \u003ctd\u003e5\u003c/td\u003e\n      \u003ctd\u003e4\u003c/td\u003e\n      \u003ctd\u003e3\u003c/td\u003e\n      \u003ctd\u003e4\u003c/td\u003e\n      \u003ctd\u003e3\u003c/td\u003e\n      \u003ctd\u003e...\u003c/td\u003e\n      \u003ctd\u003e2\u003c/td\u003e\n      \u003ctd\u003e4\u003c/td\u003e\n      \u003ctd\u003e2\u003c/td\u003e\n      \u003ctd\u003e2\u003c/td\u003e\n      \u003ctd\u003e4.0\u003c/td\u003e\n      \u003ctd\u003e3.5\u003c/td\u003e\n      \u003ctd\u003e3.0\u003c/td\u003e\n      \u003ctd\u003e2.3\u003c/td\u003e\n      \u003ctd\u003e25\u003c/td\u003e\n      \u003ctd\u003e2\u003c/td\u003e\n    \u003c/tr\u003e\n    \u003ctr\u003e\n      \u003cth\u003e1\u003c/th\u003e\n      \u003ctd\u003e2\u003c/td\u003e\n      \u003ctd\u003e3\u003c/td\u003e\n      \u003ctd\u003e2\u003c/td\u003e\n      \u003ctd\u003e2\u003c/td\u003e\n      \u003ctd\u003e4\u003c/td\u003e\n      \u003ctd\u003e4\u003c/td\u003e\n      \u003ctd\u003e4\u003c/td\u003e\n      \u003ctd\u003e3\u003c/td\u003e\n      \u003ctd\u003e4\u003c/td\u003e\n      \u003ctd\u003e3\u003c/td\u003e\n      \u003ctd\u003e...\u003c/td\u003e\n      \u003ctd\u003e4\u003c/td\u003e\n      \u003ctd\u003e4\u003c/td\u003e\n      \u003ctd\u003e3\u003c/td\u003e\n      \u003ctd\u003e1\u003c/td\u003e\n      \u003ctd\u003e3.3\u003c/td\u003e\n      \u003ctd\u003e3.5\u003c/td\u003e\n      \u003ctd\u003e3.3\u003c/td\u003e\n      \u003ctd\u003e2.4\u003c/td\u003e\n      \u003ctd\u003e44\u003c/td\u003e\n      \u003ctd\u003e2\u003c/td\u003e\n    \u003c/tr\u003e\n    \u003ctr\u003e\n      \u003cth\u003e2\u003c/th\u003e\n      \u003ctd\u003e3\u003c/td\u003e\n      \u003ctd\u003e4\u003c/td\u003e\n      \u003ctd\u003e3\u003c/td\u003e\n      \u003ctd\u003e3\u003c/td\u003e\n      \u003ctd\u003e4\u003c/td\u003e\n      \u003ctd\u003e4\u003c/td\u003e\n      \u003ctd\u003e3\u003c/td\u003e\n      \u003ctd\u003e1\u003c/td\u003e\n      \u003ctd\u003e2\u003c/td\u003e\n      \u003ctd\u003e4\u003c/td\u003e\n      \u003ctd\u003e...\u003c/td\u003e\n      \u003ctd\u003e2\u003c/td\u003e\n      \u003ctd\u003e5\u003c/td\u003e\n      \u003ctd\u003e4\u003c/td\u003e\n      \u003ctd\u003e2\u003c/td\u003e\n      \u003ctd\u003e3.9\u003c/td\u003e\n      \u003ctd\u003e3.9\u003c/td\u003e\n      \u003ctd\u003e3.1\u003c/td\u003e\n      \u003ctd\u003e2.3\u003c/td\u003e\n      \u003ctd\u003e50\u003c/td\u003e\n      \u003ctd\u003e1\u003c/td\u003e\n    \u003c/tr\u003e\n    \u003ctr\u003e\n      \u003cth\u003e3\u003c/th\u003e\n      \u003ctd\u003e3\u003c/td\u003e\n      \u003ctd\u003e3\u003c/td\u003e\n      \u003ctd\u003e3\u003c/td\u003e\n      \u003ctd\u003e4\u003c/td\u003e\n      \u003ctd\u003e3\u003c/td\u003e\n      \u003ctd\u003e5\u003c/td\u003e\n      \u003ctd\u003e4\u003c/td\u003e\n      \u003ctd\u003e3\u003c/td\u003e\n      \u003ctd\u003e-1\u003c/td\u003e\n      \u003ctd\u003e4\u003c/td\u003e\n      \u003ctd\u003e...\u003c/td\u003e\n      \u003ctd\u003e4\u003c/td\u003e\n      \u003ctd\u003e5\u003c/td\u003e\n      \u003ctd\u003e3\u003c/td\u003e\n      \u003ctd\u003e3\u003c/td\u003e\n      \u003ctd\u003e3.6\u003c/td\u003e\n      \u003ctd\u003e4.0\u003c/td\u003e\n      \u003ctd\u003e2.9\u003c/td\u003e\n      \u003ctd\u003e3.3\u003c/td\u003e\n      \u003ctd\u003e30\u003c/td\u003e\n      \u003ctd\u003e2\u003c/td\u003e\n    \u003c/tr\u003e\n    \u003ctr\u003e\n      \u003cth\u003e4\u003c/th\u003e\n      \u003ctd\u003e1\u003c/td\u003e\n      \u003ctd\u003e4\u003c/td\u003e\n      \u003ctd\u003e2\u003c/td\u003e\n      \u003ctd\u003e2\u003c/td\u003e\n      \u003ctd\u003e3\u003c/td\u003e\n      \u003ctd\u003e5\u003c/td\u003e\n      \u003ctd\u003e4\u003c/td\u003e\n      \u003ctd\u003e1\u003c/td\u003e\n      \u003ctd\u003e4\u003c/td\u003e\n      \u003ctd\u003e4\u003c/td\u003e\n      \u003ctd\u003e...\u003c/td\u003e\n      \u003ctd\u003e2\u003c/td\u003e\n      \u003ctd\u003e5\u003c/td\u003e\n      \u003ctd\u003e4\u003c/td\u003e\n      \u003ctd\u003e2\u003c/td\u003e\n      \u003ctd\u003e4.1\u003c/td\u003e\n      \u003ctd\u003e4.1\u003c/td\u003e\n      \u003ctd\u003e2.9\u003c/td\u003e\n      \u003ctd\u003e2.0\u003c/td\u003e\n      \u003ctd\u003e52\u003c/td\u003e\n      \u003ctd\u003e1\u003c/td\u003e\n    \u003c/tr\u003e\n    \u003ctr\u003e\n      \u003cth\u003e...\u003c/th\u003e\n      \u003ctd\u003e...\u003c/td\u003e\n      \u003ctd\u003e...\u003c/td\u003e\n      \u003ctd\u003e...\u003c/td\u003e\n      \u003ctd\u003e...\u003c/td\u003e\n      \u003ctd\u003e...\u003c/td\u003e\n      \u003ctd\u003e...\u003c/td\u003e\n      \u003ctd\u003e...\u003c/td\u003e\n      \u003ctd\u003e...\u003c/td\u003e\n      \u003ctd\u003e...\u003c/td\u003e\n      \u003ctd\u003e...\u003c/td\u003e\n      \u003ctd\u003e...\u003c/td\u003e\n      \u003ctd\u003e...\u003c/td\u003e\n      \u003ctd\u003e...\u003c/td\u003e\n      \u003ctd\u003e...\u003c/td\u003e\n      \u003ctd\u003e...\u003c/td\u003e\n      \u003ctd\u003e...\u003c/td\u003e\n      \u003ctd\u003e...\u003c/td\u003e\n      \u003ctd\u003e...\u003c/td\u003e\n      \u003ctd\u003e...\u003c/td\u003e\n      \u003ctd\u003e...\u003c/td\u003e\n      \u003ctd\u003e...\u003c/td\u003e\n    \u003c/tr\u003e\n    \u003ctr\u003e\n      \u003cth\u003e1066\u003c/th\u003e\n      \u003ctd\u003e3\u003c/td\u003e\n      \u003ctd\u003e2\u003c/td\u003e\n      \u003ctd\u003e3\u003c/td\u003e\n      \u003ctd\u003e3\u003c/td\u003e\n      \u003ctd\u003e2\u003c/td\u003e\n      \u003ctd\u003e5\u003c/td\u003e\n      \u003ctd\u003e3\u003c/td\u003e\n      \u003ctd\u003e2\u003c/td\u003e\n      \u003ctd\u003e3\u003c/td\u003e\n      \u003ctd\u003e4\u003c/td\u003e\n      \u003ctd\u003e...\u003c/td\u003e\n      \u003ctd\u003e5\u003c/td\u003e\n      \u003ctd\u003e4\u003c/td\u003e\n      \u003ctd\u003e4\u003c/td\u003e\n      \u003ctd\u003e4\u003c/td\u003e\n      \u003ctd\u003e2.5\u003c/td\u003e\n      \u003ctd\u003e3.3\u003c/td\u003e\n      \u003ctd\u003e2.9\u003c/td\u003e\n      \u003ctd\u003e3.0\u003c/td\u003e\n      \u003ctd\u003e18\u003c/td\u003e\n      \u003ctd\u003e2\u003c/td\u003e\n    \u003c/tr\u003e\n    \u003ctr\u003e\n      \u003cth\u003e1067\u003c/th\u003e\n      \u003ctd\u003e1\u003c/td\u003e\n      \u003ctd\u003e4\u003c/td\u003e\n      \u003ctd\u003e5\u003c/td\u003e\n      \u003ctd\u003e2\u003c/td\u003e\n      \u003ctd\u003e4\u003c/td\u003e\n      \u003ctd\u003e4\u003c/td\u003e\n      \u003ctd\u003e1\u003c/td\u003e\n      \u003ctd\u003e2\u003c/td\u003e\n      \u003ctd\u003e2\u003c/td\u003e\n      \u003ctd\u003e5\u003c/td\u003e\n      \u003ctd\u003e...\u003c/td\u003e\n      \u003ctd\u003e1\u003c/td\u003e\n      \u003ctd\u003e4\u003c/td\u003e\n      \u003ctd\u003e1\u003c/td\u003e\n      \u003ctd\u003e2\u003c/td\u003e\n      \u003ctd\u003e4.8\u003c/td\u003e\n      \u003ctd\u003e3.9\u003c/td\u003e\n      \u003ctd\u003e2.5\u003c/td\u003e\n      \u003ctd\u003e2.4\u003c/td\u003e\n      \u003ctd\u003e31\u003c/td\u003e\n      \u003ctd\u003e1\u003c/td\u003e\n    \u003c/tr\u003e\n    \u003ctr\u003e\n      \u003cth\u003e1068\u003c/th\u003e\n      \u003ctd\u003e1\u003c/td\u003e\n      \u003ctd\u003e4\u003c/td\u003e\n      \u003ctd\u003e4\u003c/td\u003e\n      \u003ctd\u003e5\u003c/td\u003e\n      \u003ctd\u003e4\u003c/td\u003e\n      \u003ctd\u003e4\u003c/td\u003e\n      \u003ctd\u003e3\u003c/td\u003e\n      \u003ctd\u003e5\u003c/td\u003e\n      \u003ctd\u003e4\u003c/td\u003e\n      \u003ctd\u003e3\u003c/td\u003e\n      \u003ctd\u003e...\u003c/td\u003e\n      \u003ctd\u003e2\u003c/td\u003e\n      \u003ctd\u003e4\u003c/td\u003e\n      \u003ctd\u003e1\u003c/td\u003e\n      \u003ctd\u003e5\u003c/td\u003e\n      \u003ctd\u003e4.4\u003c/td\u003e\n      \u003ctd\u003e3.9\u003c/td\u003e\n      \u003ctd\u003e3.0\u003c/td\u003e\n      \u003ctd\u003e4.3\u003c/td\u003e\n      \u003ctd\u003e15\u003c/td\u003e\n      \u003ctd\u003e1\u003c/td\u003e\n    \u003c/tr\u003e\n    \u003ctr\u003e\n      \u003cth\u003e1069\u003c/th\u003e\n      \u003ctd\u003e3\u003c/td\u003e\n      \u003ctd\u003e4\u003c/td\u003e\n      \u003ctd\u003e4\u003c/td\u003e\n      \u003ctd\u003e3\u003c/td\u003e\n      \u003ctd\u003e3\u003c/td\u003e\n      \u003ctd\u003e4\u003c/td\u003e\n      \u003ctd\u003e3\u003c/td\u003e\n      \u003ctd\u003e2\u003c/td\u003e\n      \u003ctd\u003e4\u003c/td\u003e\n      \u003ctd\u003e3\u003c/td\u003e\n      \u003ctd\u003e...\u003c/td\u003e\n      \u003ctd\u003e3\u003c/td\u003e\n      \u003ctd\u003e4\u003c/td\u003e\n      \u003ctd\u003e3\u003c/td\u003e\n      \u003ctd\u003e3\u003c/td\u003e\n      \u003ctd\u003e3.1\u003c/td\u003e\n      \u003ctd\u003e3.6\u003c/td\u003e\n      \u003ctd\u003e2.9\u003c/td\u003e\n      \u003ctd\u003e2.8\u003c/td\u003e\n      \u003ctd\u003e21\u003c/td\u003e\n      \u003ctd\u003e2\u003c/td\u003e\n    \u003c/tr\u003e\n    \u003ctr\u003e\n      \u003cth\u003e1070\u003c/th\u003e\n      \u003ctd\u003e4\u003c/td\u003e\n      \u003ctd\u003e2\u003c/td\u003e\n      \u003ctd\u003e1\u003c/td\u003e\n      \u003ctd\u003e3\u003c/td\u003e\n      \u003ctd\u003e3\u003c/td\u003e\n      \u003ctd\u003e5\u003c/td\u003e\n      \u003ctd\u003e3\u003c/td\u003e\n      \u003ctd\u003e2\u003c/td\u003e\n      \u003ctd\u003e4\u003c/td\u003e\n      \u003ctd\u003e3\u003c/td\u003e\n      \u003ctd\u003e...\u003c/td\u003e\n      \u003ctd\u003e2\u003c/td\u003e\n      \u003ctd\u003e4\u003c/td\u003e\n      \u003ctd\u003e3\u003c/td\u003e\n      \u003ctd\u003e1\u003c/td\u003e\n      \u003ctd\u003e3.4\u003c/td\u003e\n      \u003ctd\u003e3.0\u003c/td\u003e\n      \u003ctd\u003e3.0\u003c/td\u003e\n      \u003ctd\u003e2.5\u003c/td\u003e\n      \u003ctd\u003e30\u003c/td\u003e\n      \u003ctd\u003e2\u003c/td\u003e\n    \u003c/tr\u003e\n  \u003c/tbody\u003e\n\u003c/table\u003e\n\u003cp\u003e1071 rows × 38 columns\u003c/p\u003e\n\u003c/div\u003e",
                        "text/plain": "      Q1  Q2  Q3  Q4  Q5  Q6  Q7  Q8  Q9  Q10  ...  Q29  Q30  Q31  Q32  \\\n0      2   2   3   1   4   5   4   3   4    3  ...    2    4    2    2   \n1      2   3   2   2   4   4   4   3   4    3  ...    4    4    3    1   \n2      3   4   3   3   4   4   3   1   2    4  ...    2    5    4    2   \n3      3   3   3   4   3   5   4   3  -1    4  ...    4    5    3    3   \n4      1   4   2   2   3   5   4   1   4    4  ...    2    5    4    2   \n...   ..  ..  ..  ..  ..  ..  ..  ..  ..  ...  ...  ...  ...  ...  ...   \n1066   3   2   3   3   2   5   3   2   3    4  ...    5    4    4    4   \n1067   1   4   5   2   4   4   1   2   2    5  ...    1    4    1    2   \n1068   1   4   4   5   4   4   3   5   4    3  ...    2    4    1    5   \n1069   3   4   4   3   3   4   3   2   4    3  ...    3    4    3    3   \n1070   4   2   1   3   3   5   3   2   4    3  ...    2    4    3    1   \n\n      affiliative  selfenhancing  agressive  selfdefeating  age  gender  \n0             4.0            3.5        3.0            2.3   25       2  \n1             3.3            3.5        3.3            2.4   44       2  \n2             3.9            3.9        3.1            2.3   50       1  \n3             3.6            4.0        2.9            3.3   30       2  \n4             4.1            4.1        2.9            2.0   52       1  \n...           ...            ...        ...            ...  ...     ...  \n1066          2.5            3.3        2.9            3.0   18       2  \n1067          4.8            3.9        2.5            2.4   31       1  \n1068          4.4            3.9        3.0            4.3   15       1  \n1069          3.1            3.6        2.9            2.8   21       2  \n1070          3.4            3.0        3.0            2.5   30       2  \n\n[1071 rows x 38 columns]"
                    },
                    "execution_count": 6,
                    "metadata": {},
                    "output_type": "execute_result"
                }
            ],
            "source": [
                "# Run this section to inspect X\n",
                "X = df.drop(columns = ['accuracy'])\n",
                "X"
            ]
        },
        {
            "cell_type": "code",
            "execution_count": 9,
            "metadata": {},
            "outputs": [
                {
                    "data": {
                        "text/plain": "0       100\n1        90\n2        75\n3        85\n4        80\n       ... \n1066     95\n1067     95\n1068     95\n1069     87\n1070     75\nName: accuracy, Length: 1071, dtype: int64"
                    },
                    "execution_count": 9,
                    "metadata": {},
                    "output_type": "execute_result"
                }
            ],
            "source": [
                "# Uncomment this section to inpect y\n",
                "y = df['accuracy']\n",
                "y"
            ]
        },
        {
            "attachments": {},
            "cell_type": "markdown",
            "metadata": {},
            "source": [
                "4. Calculate accuracy"
            ]
        },
        {
            "cell_type": "code",
            "execution_count": 10,
            "metadata": {},
            "outputs": [
                {
                    "data": {
                        "text/plain": "0.13953488372093023"
                    },
                    "execution_count": 10,
                    "metadata": {},
                    "output_type": "execute_result"
                }
            ],
            "source": [
                "# Train 80% of the data set and use the rest to test\n",
                "X_train, X_test, y_train, y_test = train_test_split(\n",
                "                                    X, y, test_size=0.2)\n",
                "\n",
                "model = DecisionTreeClassifier()\n",
                "model.fit(X_train, y_train)\n",
                "predictions = model.predict(X_test)\n",
                "\n",
                "# Compute model accuracy\n",
                "score = accuracy_score(y_test, predictions)\n",
                "score"
            ]
        },
        {
            "attachments": {},
            "cell_type": "markdown",
            "metadata": {},
            "source": [
                "5. Persisting Models"
            ]
        },
        {
            "cell_type": "code",
            "execution_count": 11,
            "metadata": {},
            "outputs": [
                {
                    "data": {
                        "text/plain": "['MODELNAME.joblib']"
                    },
                    "execution_count": 11,
                    "metadata": {},
                    "output_type": "execute_result"
                }
            ],
            "source": [
                "# Save the model to file\n",
                "joblib.dump(model, 'MODELNAME.joblib')\n",
                ""
            ]
        },
        {
            "attachments": {},
            "cell_type": "markdown",
            "metadata": {},
            "source": [
                "5.b. Import the model and make predictions"
            ]
        },
        {
            "cell_type": "code",
            "execution_count": 12,
            "metadata": {},
            "outputs": [
                {
                    "data": {
                        "text/plain": "array([ 90,  85,  90,  90,  60,  90,  70,  95,  85,  60,  80,  98,  66,\n        90,  85,  96, 100,  90,  80,  99,  70, 100,  70, 100,  80, 100,\n        90,  70,  75,  75, 100,  80,  90,  95,  90,  60,  70,  95,  98,\n        90, 100,  90,  80,  99,  85,  80,  93,  90, 100, 100,  80,  98,\n        70,  90,  80,  80,  80,  75,  80,  90,  99,  90,  99,  90,  99,\n        90,  75,  75,  90,  85,  99,  90,  90,  95,  98,  80,  95,  75,\n       100,  96,  95, 100, 100,  90,  90,  80,  90, 100, 100,  90,  95,\n        85,  99,  75,  75,  95,  80,  95,  80, 100, 100,  70,  75,  80,\n        90, 100, 100,  85,  95,  70,  80,  90, 100,  90, 100,  95,  96,\n       100,  85,  80,  90,  75,  80,  98,  60, 100,  90,  60,  70,  80,\n        90,  80,  85,  80,  90,  90,  99,   9, 100,  75,  75, 100,  75,\n        93,  90,  85,  80,  75,  96,  90,  90,  60,  95,  90,  10, 100,\n        75,  80,  80,  75,  90,  90,  95,  90, 100,  90,  85,  90,  90,\n        75, 100,  90,  85,  85,  90,  86,  90,  90,  95,  85,  95,  80,\n       100,  90,  60,  87,  90,  99, 100,  85,  99, 100,  90,  99, 100,\n        90,  95,  90, 100,  88,  90,  70,  85,  80,  90,  80,  90, 100,\n        80,  90, 100,  90,  98, 100,  92])"
                    },
                    "execution_count": 12,
                    "metadata": {},
                    "output_type": "execute_result"
                }
            ],
            "source": [
                "# Load saved model. Make sure that you have run the previous\n",
                "# section at least once, and that the file exists.\n",
                "\n",
                "model = joblib.load('MODELNAME.joblib')\n",
                "predictions = model.predict(X_test)\n",
                "predictions"
            ]
        },
        {
            "attachments": {},
            "cell_type": "markdown",
            "metadata": {},
            "source": [
                "6. (Optional) Visualize decision trees"
            ]
        },
        {
            "cell_type": "code",
            "execution_count": 13,
            "metadata": {},
            "outputs": [],
            "source": [
                "tree.export_graphviz(model, out_file = 'MODELNAME.dot',\n",
                "                    feature_names = X.columns, \n",
                "                    class_names = str(sorted(y.unique())), \n",
                "                    label = 'all',\n",
                "                    rounded = True, \n",
                "                    filled = True)\n",
                "\n",
                "#Download the file music-recommender.dot and open it in VS Code.\n",
                ""
            ]
        }
    ]
}
